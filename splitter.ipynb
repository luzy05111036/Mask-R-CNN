{
  "nbformat": 4,
  "nbformat_minor": 0,
  "metadata": {
    "kernelspec": {
      "display_name": "Python 3",
      "language": "python",
      "name": "python3"
    },
    "language_info": {
      "codemirror_mode": {
        "name": "ipython",
        "version": 3
      },
      "file_extension": ".py",
      "mimetype": "text/x-python",
      "name": "python",
      "nbconvert_exporter": "python",
      "pygments_lexer": "ipython3",
      "version": "3.8.3"
    },
    "colab": {
      "name": "splitter.ipynb",
      "provenance": [],
      "collapsed_sections": []
    }
  },
  "cells": [
    {
      "cell_type": "code",
      "metadata": {
        "id": "rOE1d3KZfWa2"
      },
      "source": [
        "!git clone https://github.com/fkrutul/SplitterTest.git"
      ],
      "execution_count": null,
      "outputs": []
    },
    {
      "cell_type": "code",
      "metadata": {
        "id": "ovZQDOw6fI4U"
      },
      "source": [
        "!pip3 install scikit-image\n",
        "!pip3 install shapely\n",
        "!apt install libspatialindex-dev\n",
        "!pip install rtree"
      ],
      "execution_count": null,
      "outputs": []
    },
    {
      "cell_type": "code",
      "metadata": {
        "scrolled": false,
        "id": "7d7HsPFefI4V"
      },
      "source": [
        "%load_ext autoreload\n",
        "%autoreload 2\n",
        "\n",
        "%matplotlib inline"
      ],
      "execution_count": null,
      "outputs": []
    },
    {
      "cell_type": "code",
      "metadata": {
        "id": "tafZFji6nnfs"
      },
      "source": [
        "import os\n",
        "os.chdir(\"SplitterTest\")"
      ],
      "execution_count": null,
      "outputs": []
    },
    {
      "cell_type": "code",
      "metadata": {
        "scrolled": true,
        "id": "SITpIgfsfI4V"
      },
      "source": [
        "from imgsplit import AnnotatedImages\n",
        "\n",
        "an = AnnotatedImages(r\"test\",\n",
        "                     r\"test/annotations.json\")\n",
        "an.generate((1000, 1000), 200, r\"annotated\", r\"annotated/new_annotation.json\")"
      ],
      "execution_count": null,
      "outputs": []
    },
    {
      "cell_type": "code",
      "metadata": {
        "id": "VKjvm79lfI4V"
      },
      "source": [
        "!zip -r /content/file.zip /content/SplitterTest/SplitterTest/annotated\n",
        "from google.colab import files\n",
        "files.download(\"/content/file.zip\")"
      ],
      "execution_count": null,
      "outputs": []
    },
    {
      "cell_type": "code",
      "metadata": {
        "id": "BevRdLv3M4Dv"
      },
      "source": [
        ""
      ],
      "execution_count": null,
      "outputs": []
    }
  ]
}